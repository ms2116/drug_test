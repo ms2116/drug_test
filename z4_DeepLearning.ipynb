{
 "cells": [
  {
   "cell_type": "markdown",
   "metadata": {
    "id": "JIe7bYJMtrfN"
   },
   "source": [
    "# 딥러닝 이해\n",
    "\n",
    "- MLP(Multi Layer Perceptron)와 CNN(Convolution Neural Network) 이해\n",
    "- [강의자료](https://github.com/StillWork/image/blob/main/AIDD-LAIDD-2022.pdf?raw=1)"
   ]
  },
  {
   "cell_type": "markdown",
   "metadata": {},
   "source": [
    "## 딥러닝 모델 유형\n",
    "\n",
    "- 기본적인 신경망(NN)을 MLP라고 부른다\n",
    "- 자연어 처리 등 복잡한 현상을 모델링 하는데 Transformer가 널리 사용된다"
   ]
  },
  {
   "cell_type": "markdown",
   "metadata": {},
   "source": [
    " <img src=\"https://github.com/StillWork/image/blob/main/%E1%84%89%E1%85%B3%E1%84%8F%E1%85%B3%E1%84%85%E1%85%B5%E1%86%AB%E1%84%89%E1%85%A3%E1%86%BA%202022-11-22%20%E1%84%8B%E1%85%A9%E1%84%92%E1%85%AE%202.55.58.png?raw=1\" align=\"left\">"
   ]
  },
  {
   "cell_type": "markdown",
   "metadata": {},
   "source": [
    "## 신경망의 특징\n",
    "- 60년대부터 가능성을 연구하였으나 오랫동안 성과를 내지 못했다\n",
    " - 학습이 어렵고, 계산량이 많고, 과대적합이 많고, 블랙박스 동작\n",
    " - 지금은 이러한 문제들이, 데이터의 증가, 알고리즘의 발달(공개 SW), 하드웨어 계산능력의 증대로 해결되었다\n",
    "- small 데이터에 대해서는 전통적인 머신러닝 모델 (RF, SVM 등)을 사용해도 과대적합도 적게 발생하고 잘 동작했다\n",
    "- 2012년 Imagenet 경진대회에서 CNN 기반의 신경망이 매우 우수한 성적을 내면서 딥러닝 모델이 확산되었다\n",
    "- 자연어 처리분야에서는 2014년 word2vec(단어 임베딩)의 도입으로 성능이 크게 향상되었다\n",
    " - 비슷한 의미를 갖는 단어는 비슷한 표현형을 갖게 함\n",
    " - 자연어 처리에서는 초기에는 RNN을 사용했으나 현재는 Transformer를 사용한다"
   ]
  },
  {
   "cell_type": "markdown",
   "metadata": {},
   "source": [
    "## Feature Learning \n",
    "\n",
    "- Feature Engineering은 사람이 전문성을 가지고 중요한 특성을 만드는 것이고, Feature Learning은 신경망이 학습을 통해서 스스로 머신러닝에 필요한 특성을 만들어내는 것이다\n",
    "- 아래 그림에서 좌측은 Feature Engineering, 우측은 Feature Learning을 나타냈다"
   ]
  },
  {
   "cell_type": "markdown",
   "metadata": {},
   "source": [
    "<img src=\"https://github.com/StillWork/image/blob/main/%E1%84%89%E1%85%B3%E1%84%8F%E1%85%B3%E1%84%85%E1%85%B5%E1%86%AB%E1%84%89%E1%85%A3%E1%86%BA%202022-11-22%20%E1%84%8B%E1%85%A9%E1%84%92%E1%85%AE%205.15.35.png?raw=1\"  align=\"left\">"
   ]
  },
  {
   "cell_type": "markdown",
   "metadata": {},
   "source": [
    "<img src=\"https://github.com/StillWork/image/blob/main/%E1%84%89%E1%85%B3%E1%84%8F%E1%85%B3%E1%84%85%E1%85%B5%E1%86%AB%E1%84%89%E1%85%A3%E1%86%BA%202022-11-22%20%E1%84%8B%E1%85%A9%E1%84%92%E1%85%AE%205.16.20.png?raw=1\"  align=\"left\">"
   ]
  },
  {
   "cell_type": "markdown",
   "metadata": {},
   "source": [
    "## 신약개발에 신경망 도입\n",
    "- 2012년 Merck Molecular Activity Challenge 대회에서 신경망 모델이 RF 모델보다 월등히 높은 성능을 냈다\n",
    " - 15개의 태스크에 대해 바이오 활동성을 예측하는 문제\n",
    " - 이후 QSAR, 분자의 특성 예측, ADME 예측 등 신약개발에 신경망이 적극 도입되기 시작했다"
   ]
  },
  {
   "cell_type": "markdown",
   "metadata": {},
   "source": [
    "# import"
   ]
  },
  {
   "cell_type": "code",
   "execution_count": 2,
   "metadata": {
    "id": "racEBTb_ZzV7"
   },
   "outputs": [],
   "source": [
    "import numpy as np\n",
    "import matplotlib.pyplot as plt\n",
    "import keras\n",
    "%matplotlib inline\n",
    "%config InlineBackend.figure_format = 'retina'"
   ]
  },
  {
   "cell_type": "code",
   "execution_count": 3,
   "metadata": {
    "id": "-AQRftuEqGqx"
   },
   "outputs": [],
   "source": [
    "from keras.datasets import mnist\n",
    "from keras.utils.np_utils import to_categorical\n",
    "from keras import layers\n",
    "from keras import models"
   ]
  },
  {
   "cell_type": "markdown",
   "metadata": {},
   "source": [
    "# MLP\n",
    "- Multi Layer Perceptron\n",
    "\n",
    "<img src=\"https://github.com/StillWork/image/blob/main/%E1%84%89%E1%85%B3%E1%84%8F%E1%85%B3%E1%84%85%E1%85%B5%E1%86%AB%E1%84%89%E1%85%A3%E1%86%BA%202022-11-21%20%E1%84%8B%E1%85%A9%E1%84%92%E1%85%AE%2011.48.10.png?raw=1\" width=\"700\"  align=\"left\">"
   ]
  },
  {
   "cell_type": "markdown",
   "metadata": {
    "id": "0gARJPr-azq8"
   },
   "source": [
    "## Fringerprint를 사용한 독성 예측 예\n",
    "\n",
    "- MLP 모델을 사용 (한개의 히든 계층 사용)\n",
    "- 12개의 이진 분류 태스크를 수행\n",
    "- auc와 accuracy를 측정"
   ]
  },
  {
   "cell_type": "code",
   "execution_count": null,
   "metadata": {
    "colab": {
     "base_uri": "https://localhost:8080/"
    },
    "id": "C9Ik94rNYW6r",
    "outputId": "655d4bc3-d89d-4039-dace-0b90137c4006"
   },
   "outputs": [
    {
     "name": "stdout",
     "output_type": "stream",
     "text": [
      "<DiskDataset X.shape: (6264, 1024), y.shape: (6264, 12), w.shape: (6264, 12), task_names: ['NR-AR' 'NR-AR-LBD' 'NR-AhR' ... 'SR-HSE' 'SR-MMP' 'SR-p53']>\n"
     ]
    }
   ],
   "source": [
    "tasks, datasets, transformers = dc.molnet.load_tox21(featurizer='ECFP')\n",
    "train_dataset, valid_dataset, test_dataset = datasets\n",
    "print(train_dataset)"
   ]
  },
  {
   "cell_type": "code",
   "execution_count": null,
   "metadata": {
    "colab": {
     "base_uri": "https://localhost:8080/"
    },
    "id": "M7X7-AgoZP3a",
    "outputId": "d7cdfb17-dd77-4719-b6eb-b11ab41cc754"
   },
   "outputs": [
    {
     "data": {
      "text/plain": [
       "array([[1.04502242, 1.03632599, 1.12502653, ..., 1.05576503, 1.17464996,\n",
       "        1.05288369],\n",
       "       [1.04502242, 1.03632599, 1.12502653, ..., 1.05576503, 1.17464996,\n",
       "        1.05288369],\n",
       "       [1.04502242, 1.03632599, 1.12502653, ..., 1.05576503, 0.        ,\n",
       "        1.05288369],\n",
       "       ...,\n",
       "       [1.04502242, 0.        , 1.12502653, ..., 1.05576503, 6.7257384 ,\n",
       "        1.05288369],\n",
       "       [1.04502242, 1.03632599, 1.12502653, ..., 1.05576503, 6.7257384 ,\n",
       "        1.05288369],\n",
       "       [1.04502242, 1.03632599, 1.12502653, ..., 0.        , 1.17464996,\n",
       "        1.05288369]])"
      ]
     },
     "execution_count": 27,
     "metadata": {},
     "output_type": "execute_result"
    }
   ],
   "source": [
    "train_dataset.w"
   ]
  },
  {
   "cell_type": "markdown",
   "metadata": {
    "id": "qw8uIFgjYz5C"
   },
   "source": [
    "- `y`의 모양이 (6264, 12)이며 이는 12가지의 멀티태스크가 있음을 나타낸다\n",
    "- w (가중치)의 의미\n",
    " - 이 값이 0이면 결측치를 나타낸다. 해당 샘플에 대해서는 손실함수나 성능평가 시에 무시하도록 한다\n",
    " - 이 값은 대부분의 경우 1 또는 1 근처의 값을 갖는다\n",
    " - 이 값은 각 태스크별로 레이블 분포의 불균형을 보완하기 위해서 사용된다\n",
    " - 12개 태스크가 균등하게 성능에 기여하도록 조정하는데 사용된다.\n"
   ]
  },
  {
   "cell_type": "markdown",
   "metadata": {},
   "source": [
    "## 모델 구현 및 성능 평가\n",
    "\n",
    "- MLP를 구형하기 위해서 deepchem이 제공하는 MultitaskClassifier()를 사용한다"
   ]
  },
  {
   "cell_type": "code",
   "execution_count": null,
   "metadata": {
    "colab": {
     "base_uri": "https://localhost:8080/"
    },
    "id": "_eZnfRblRJsK",
    "outputId": "5743f02d-d17f-4a00-d528-d5d4ed456a67",
    "scrolled": false
   },
   "outputs": [
    {
     "name": "stdout",
     "output_type": "stream",
     "text": [
      "training set score: {'roc_auc_score': 0.9749084249087031, 'accuracy_score': 0.917398361004683}\n",
      "test set score: {'roc_auc_score': 0.6744832540859882, 'accuracy_score': 0.8358843537414966}\n"
     ]
    }
   ],
   "source": [
    "model = dc.models.MultitaskClassifier(n_tasks=12, n_features=1024, layer_sizes=[1000])\n",
    "model.fit(train_dataset, nb_epoch=20)\n",
    "metric1 = dc.metrics.Metric(dc.metrics.roc_auc_score)\n",
    "metric2 = dc.metrics.Metric(dc.metrics.accuracy_score)\n",
    "print('training set score:', model.evaluate(train_dataset, [metric1, metric2], transformers))\n",
    "print('test set score:', model.evaluate(test_dataset, [metric1, metric2], transformers))"
   ]
  },
  {
   "cell_type": "markdown",
   "metadata": {},
   "source": [
    "# CNN\n",
    "\n",
    "- MNIST 이미지에서 숫자를 판독하는 문제\n",
    "- MNIST 데이터\n",
    "\n",
    "<img src=\"https://github.com/StillWork/image/blob/main/%E1%84%89%E1%85%B3%E1%84%8F%E1%85%B3%E1%84%85%E1%85%B5%E1%86%AB%E1%84%89%E1%85%A3%E1%86%BA%202022-11-21%20%E1%84%8B%E1%85%A9%E1%84%92%E1%85%AE%2011.58.30.png?raw=1\" width=\"700\"  align=\"left\">\n"
   ]
  },
  {
   "cell_type": "markdown",
   "metadata": {},
   "source": [
    "## 데이터 전처리\n",
    "\n",
    "- 데이터 다운로드"
   ]
  },
  {
   "cell_type": "code",
   "execution_count": 4,
   "metadata": {
    "colab": {
     "base_uri": "https://localhost:8080/",
     "height": 334
    },
    "id": "vRUwM8gvqToI",
    "outputId": "8eaa12c4-8b31-4cbb-d441-66d4a660aa77"
   },
   "outputs": [
    {
     "name": "stdout",
     "output_type": "stream",
     "text": [
      "Downloading data from https://storage.googleapis.com/tensorflow/tf-keras-datasets/mnist.npz\n",
      "11493376/11490434 [==============================] - 0s 0us/step\n",
      "11501568/11490434 [==============================] - 0s 0us/step\n"
     ]
    },
    {
     "data": {
      "text/plain": [
       "<function matplotlib.pyplot.show>"
      ]
     },
     "execution_count": 4,
     "metadata": {},
     "output_type": "execute_result"
    },
    {
     "data": {
      "image/png": "[encoded data removed]",
      "text/plain": [
       "<Figure size 432x288 with 1 Axes>"
      ]
     },
     "metadata": {
      "image/png": {
       "height": 248,
       "width": 251
      },
      "needs_background": "light"
     },
     "output_type": "display_data"
    }
   ],
   "source": [
    "(train_images, train_labels), (test_images, test_labels) = mnist.load_data()\n",
    "plt.imshow(train_images[0], cmap=plt.cm.binary)\n",
    "plt.show"
   ]
  },
  {
   "cell_type": "code",
   "execution_count": 5,
   "metadata": {
    "colab": {
     "base_uri": "https://localhost:8080/"
    },
    "id": "vTWfRgN5ZzV_",
    "outputId": "14d020da-2dee-4f61-abbe-a6ead3c68cc1"
   },
   "outputs": [
    {
     "data": {
      "text/plain": [
       "(60000, 28, 28)"
      ]
     },
     "execution_count": 5,
     "metadata": {},
     "output_type": "execute_result"
    }
   ],
   "source": [
    "train_images.shape"
   ]
  },
  {
   "cell_type": "code",
   "execution_count": 6,
   "metadata": {
    "colab": {
     "base_uri": "https://localhost:8080/"
    },
    "id": "C_a3kWryZzV_",
    "outputId": "255d482a-1e4c-47d3-a922-a2b972326463"
   },
   "outputs": [
    {
     "data": {
      "text/plain": [
       "array([5, 0, 4], dtype=uint8)"
      ]
     },
     "execution_count": 6,
     "metadata": {},
     "output_type": "execute_result"
    }
   ],
   "source": [
    "train_labels[:3]"
   ]
  },
  {
   "cell_type": "code",
   "execution_count": 8,
   "metadata": {
    "colab": {
     "base_uri": "https://localhost:8080/"
    },
    "id": "LNqZlZxqZzWA",
    "outputId": "040a74b7-b4dd-4189-8d78-ba8d5814eefe"
   },
   "outputs": [
    {
     "data": {
      "text/plain": [
       "array([[0., 0., 0., 0., 0., 1., 0., 0., 0., 0.],\n",
       "       [1., 0., 0., 0., 0., 0., 0., 0., 0., 0.],\n",
       "       [0., 0., 0., 0., 1., 0., 0., 0., 0., 0.]], dtype=float32)"
      ]
     },
     "execution_count": 8,
     "metadata": {},
     "output_type": "execute_result"
    }
   ],
   "source": [
    "y_train_cat[:3]"
   ]
  },
  {
   "cell_type": "markdown",
   "metadata": {},
   "source": [
    "## input 데이터 reshape\n",
    "\n",
    "- CNN의 입력은 (sample, shape(28x28), feature)과 같은 모양으로 만들어주어야 2차원 데이터인지 알 수 있다\n",
    " - 맨 앞은 샘플을 구분하고, 맨 뒤는 feature를 구분하는데 사용하며 중간이 모양을 보고 2차원인지 알 수 있다\n",
    " - (샘플, 행, 열, 특성)\n"
   ]
  },
  {
   "cell_type": "code",
   "execution_count": 22,
   "metadata": {
    "id": "-uSV7hakZzWC"
   },
   "outputs": [],
   "source": [
    "X_train_cnn = train_images.reshape(-1,28,28,1)\n",
    "X_test_cnn = test_images.reshape(-1,28,28,1)\n",
    "\n",
    "X_train = X_train.astype('float32')/255\n",
    "X_test = X_test.astype('float32')/255\n",
    "\n",
    "y_train_cat = to_categorical(train_labels)\n",
    "y_test_cat = to_categorical(test_labels)"
   ]
  },
  {
   "cell_type": "markdown",
   "metadata": {
    "id": "44tLYKCwtYc-"
   },
   "source": [
    "## 모델 구현\n"
   ]
  },
  {
   "cell_type": "markdown",
   "metadata": {},
   "source": [
    "<img src=\"https://github.com/StillWork/image/blob/main/%E1%84%89%E1%85%B3%E1%84%8F%E1%85%B3%E1%84%85%E1%85%B5%E1%86%AB%E1%84%89%E1%85%A3%E1%86%BA%202022-11-23%20%E1%84%8B%E1%85%A9%E1%84%8C%E1%85%A5%E1%86%AB%209.40.48.png?raw=1\" align=\"left\">"
   ]
  },
  {
   "cell_type": "code",
   "execution_count": 20,
   "metadata": {
    "colab": {
     "base_uri": "https://localhost:8080/"
    },
    "id": "ZF7JkSQvrYAj",
    "outputId": "39fbbd73-6c12-47b2-95d9-78f09af16bef"
   },
   "outputs": [
    {
     "name": "stdout",
     "output_type": "stream",
     "text": [
      "Model: \"sequential_2\"\n",
      "_________________________________________________________________\n",
      " Layer (type)                Output Shape              Param #   \n",
      "=================================================================\n",
      " conv2d_3 (Conv2D)           (None, 26, 26, 32)        320       \n",
      "                                                                 \n",
      " max_pooling2d_2 (MaxPooling  (None, 13, 13, 32)       0         \n",
      " 2D)                                                             \n",
      "                                                                 \n",
      " conv2d_4 (Conv2D)           (None, 11, 11, 64)        18496     \n",
      "                                                                 \n",
      " max_pooling2d_3 (MaxPooling  (None, 5, 5, 64)         0         \n",
      " 2D)                                                             \n",
      "                                                                 \n",
      " conv2d_5 (Conv2D)           (None, 3, 3, 64)          36928     \n",
      "                                                                 \n",
      " flatten (Flatten)           (None, 576)               0         \n",
      "                                                                 \n",
      " dense_3 (Dense)             (None, 10)                5770      \n",
      "                                                                 \n",
      "=================================================================\n",
      "Total params: 61,514\n",
      "Trainable params: 61,514\n",
      "Non-trainable params: 0\n",
      "_________________________________________________________________\n"
     ]
    }
   ],
   "source": [
    "from keras import layers\n",
    "from keras import models\n",
    "\n",
    "model_cnn = models.Sequential()\n",
    "model_cnn.add(layers.Conv2D(32, (3,3), activation='relu', \n",
    "                    padding=\"same\", input_shape = (28, 28,1)))\n",
    "model_cnn.add(layers.MaxPooling2D((2,2)))\n",
    "model_cnn.add(layers.Conv2D(32, (3,3), \n",
    "                    padding=\"same\", activation='relu'))\n",
    "model_cnn.add(layers.MaxPooling2D((2,2)))\n",
    "model_cnn.add(layers.Conv2D(64, (3,3), \n",
    "                    padding=\"same\", activation='relu'))\n",
    "model_cnn.add(layers.MaxPooling2D((2,2)))\n",
    "model_cnn.add(layers.Conv2D(64, (3,3), \n",
    "                    padding=\"same\", activation='relu'))\n",
    "\n",
    "model_cnn.add(layers.Flatten())\n",
    "model_cnn.add(layers.Dense(128, activation='relu'))\n",
    "model_cnn.add(layers.Dense(10, activation='softmax'))\n",
    "\n",
    "model_cnn.summary()   "
   ]
  },
  {
   "cell_type": "code",
   "execution_count": 23,
   "metadata": {
    "colab": {
     "base_uri": "https://localhost:8080/"
    },
    "id": "_ikkdb8qsx6d",
    "outputId": "8fc69e42-f776-45ca-ffc2-40f7857bd448"
   },
   "outputs": [
    {
     "name": "stdout",
     "output_type": "stream",
     "text": [
      "Epoch 1/30\n",
      "2400/2400 [==============================] - 18s 4ms/step - loss: 0.2389 - accuracy: 0.9481 - val_loss: 0.0806 - val_accuracy: 0.9752\n",
      "Epoch 2/30\n",
      "2400/2400 [==============================] - 10s 4ms/step - loss: 0.0720 - accuracy: 0.9780 - val_loss: 0.0794 - val_accuracy: 0.9762\n",
      "Epoch 3/30\n",
      "2400/2400 [==============================] - 12s 5ms/step - loss: 0.0584 - accuracy: 0.9823 - val_loss: 0.0580 - val_accuracy: 0.9833\n",
      "Epoch 4/30\n",
      "2400/2400 [==============================] - 9s 4ms/step - loss: 0.0462 - accuracy: 0.9857 - val_loss: 0.0574 - val_accuracy: 0.9845\n",
      "Epoch 5/30\n",
      "2400/2400 [==============================] - 9s 4ms/step - loss: 0.0416 - accuracy: 0.9872 - val_loss: 0.0653 - val_accuracy: 0.9831\n",
      "Epoch 6/30\n",
      "2400/2400 [==============================] - 9s 4ms/step - loss: 0.0369 - accuracy: 0.9893 - val_loss: 0.0841 - val_accuracy: 0.9810\n",
      "Epoch 7/30\n",
      "2400/2400 [==============================] - 9s 4ms/step - loss: 0.0328 - accuracy: 0.9906 - val_loss: 0.0671 - val_accuracy: 0.9847\n",
      "Epoch 8/30\n",
      "2400/2400 [==============================] - 13s 5ms/step - loss: 0.0328 - accuracy: 0.9908 - val_loss: 0.0901 - val_accuracy: 0.9826\n",
      "Epoch 9/30\n",
      "2400/2400 [==============================] - 11s 5ms/step - loss: 0.0343 - accuracy: 0.9907 - val_loss: 0.0878 - val_accuracy: 0.9814\n",
      "Epoch 10/30\n",
      "2400/2400 [==============================] - 11s 5ms/step - loss: 0.0277 - accuracy: 0.9927 - val_loss: 0.0771 - val_accuracy: 0.9863\n",
      "Epoch 11/30\n",
      "2400/2400 [==============================] - 9s 4ms/step - loss: 0.0306 - accuracy: 0.9922 - val_loss: 0.0827 - val_accuracy: 0.9861\n",
      "Epoch 12/30\n",
      "2400/2400 [==============================] - 9s 4ms/step - loss: 0.0304 - accuracy: 0.9926 - val_loss: 0.1173 - val_accuracy: 0.9854\n",
      "Epoch 13/30\n",
      "2400/2400 [==============================] - 9s 4ms/step - loss: 0.0303 - accuracy: 0.9928 - val_loss: 0.1584 - val_accuracy: 0.9824\n",
      "Epoch 14/30\n",
      "2400/2400 [==============================] - 10s 4ms/step - loss: 0.0334 - accuracy: 0.9930 - val_loss: 0.1598 - val_accuracy: 0.9841\n",
      "Epoch 15/30\n",
      "2400/2400 [==============================] - 9s 4ms/step - loss: 0.0345 - accuracy: 0.9935 - val_loss: 0.1622 - val_accuracy: 0.9844\n"
     ]
    }
   ],
   "source": [
    "callbacks_list = [keras.callbacks.EarlyStopping(monitor='val_accuracy', patience=3)]\n",
    "\n",
    "model_cnn.compile(loss='categorical_crossentropy',\n",
    "                optimizer='adam', metrics=['accuracy'])\n",
    "\n",
    "# 최적화 알고리즘으로 'adam'과 'rmsprop'이 널리 사용된다\n",
    "h = model_cnn.fit(X_train_cnn,\n",
    "                      y_train_cat,\n",
    "                      batch_size=20,\n",
    "                      epochs=30,\n",
    "                      callbacks=callbacks_list,\n",
    "                      validation_split=0.2,\n",
    "                      verbose=1)"
   ]
  },
  {
   "cell_type": "code",
   "execution_count": 24,
   "metadata": {
    "colab": {
     "base_uri": "https://localhost:8080/"
    },
    "id": "H4MhJEoUvCm0",
    "outputId": "a92fa76d-3663-4ae8-af24-508b2bd10988"
   },
   "outputs": [
    {
     "name": "stdout",
     "output_type": "stream",
     "text": [
      "313/313 [==============================] - 1s 3ms/step - loss: 0.1177 - accuracy: 0.9864\n",
      "test_acc =  0.9864000082015991\n"
     ]
    }
   ],
   "source": [
    "test_loss, test_acc = model_cnn.evaluate(X_test_cnn, y_test_cat)\n",
    "print('test_acc = ',test_acc)"
   ]
  },
  {
   "cell_type": "markdown",
   "metadata": {},
   "source": [
    "- 학습 결과를 그리는 함수 정의\n",
    "- 학습 데이터와 검증 데이터에 대해서 각각 손실함수와, 성능지표(여기서는 정확도)를 그리는 함수"
   ]
  },
  {
   "cell_type": "code",
   "execution_count": 12,
   "metadata": {
    "id": "RMXrAboxVHyh"
   },
   "outputs": [],
   "source": [
    "def show_4_graphs(history):\n",
    "    plt.figure(figsize=(6, 4))\n",
    "    plt.plot(history.history['accuracy'], 'r', label='Accuracy of training data')\n",
    "    plt.plot(history.history['val_accuracy'], 'b', label='Accuracy of validation data')\n",
    "    plt.plot(history.history['loss'], 'r--', label='Loss of training data')\n",
    "    plt.plot(history.history['val_loss'], 'b--', label='Loss of validation data')\n",
    "    plt.title('Model Accuracy and Loss')\n",
    "    plt.ylabel('Accuracy and Loss')\n",
    "    plt.xlabel('Training Epoch')\n",
    "    plt.ylim(0)\n",
    "    plt.legend()\n",
    "    plt.show()"
   ]
  },
  {
   "cell_type": "code",
   "execution_count": 25,
   "metadata": {
    "colab": {
     "base_uri": "https://localhost:8080/",
     "height": 294
    },
    "id": "WQutnaIBjT68",
    "outputId": "de0bfdd7-6df5-45c6-dce0-7de6e64d07b4"
   },
   "outputs": [
    {
     "data": {
      "image/png": "[encoded data removed]",
      "text/plain": [
       "<Figure size 432x288 with 1 Axes>"
      ]
     },
     "metadata": {
      "image/png": {
       "height": 277,
       "width": 385
      },
      "needs_background": "light"
     },
     "output_type": "display_data"
    }
   ],
   "source": [
    "show_4_graphs(h)"
   ]
  }
 ],
 "metadata": {
  "accelerator": "GPU",
  "colab": {
   "collapsed_sections": [],
   "name": "c_14_MNIST.ipynb",
   "provenance": []
  },
  "kernelspec": {
   "display_name": "Python 3",
   "language": "python",
   "name": "python3"
  },
  "language_info": {
   "codemirror_mode": {
    "name": "ipython",
    "version": 3
   },
   "file_extension": ".py",
   "mimetype": "text/x-python",
   "name": "python",
   "nbconvert_exporter": "python",
   "pygments_lexer": "ipython3",
   "version": "3.8.8"
  },
  "toc": {
   "base_numbering": 1,
   "nav_menu": {},
   "number_sections": false,
   "sideBar": true,
   "skip_h1_title": false,
   "title_cell": "Table of Contents",
   "title_sidebar": "Contents",
   "toc_cell": false,
   "toc_position": {
    "height": "calc(100% - 180px)",
    "left": "10px",
    "top": "150px",
    "width": "204.8px"
   },
   "toc_section_display": true,
   "toc_window_display": true
  }
 },
 "nbformat": 4,
 "nbformat_minor": 1
}
